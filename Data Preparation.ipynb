{
 "cells": [
  {
   "cell_type": "code",
   "execution_count": 1,
   "metadata": {},
   "outputs": [],
   "source": [
    "import pandas as pd\n",
    "import numpy as np"
   ]
  },
  {
   "cell_type": "code",
   "execution_count": 2,
   "metadata": {},
   "outputs": [],
   "source": [
    "outside_temp1 = pd.read_excel('Original data/Data_round1.xlsx', sheet_name='Buiten afd')"
   ]
  },
  {
   "cell_type": "code",
   "execution_count": 4,
   "metadata": {},
   "outputs": [],
   "source": [
    "outside_temp1 = outside_temp1.iloc[:, :8]"
   ]
  },
  {
   "cell_type": "code",
   "execution_count": 5,
   "metadata": {},
   "outputs": [],
   "source": [
    "outside_temp1 = outside_temp1.rename(columns={'T-  Buiten bij luchtinlaat': 'T- Outside at air inlet','RV- Buiten bij luchtinlaat':'RH- Outside at air inlet'  , 'T- Inlaat voor conditioner':\t'T- Inlet for conditioner' , 'RV- Inlaat voor conditioner': 'RH- Inlet for conditioner' ,\t'T- Inlaat achter conditioner': 'T- Inlet behind conditioner' , 'RV- Inlaat achter conditioner':'RH- Inlet behind conditioner'})"
   ]
  },
  {
   "cell_type": "markdown",
   "metadata": {},
   "source": [
    "### Turn to celsius"
   ]
  },
  {
   "cell_type": "code",
   "execution_count": 6,
   "metadata": {},
   "outputs": [],
   "source": [
    "columns_to_convert = [col for col in outside_temp1.columns if col.startswith('T-')]\n",
    "outside_temp1[columns_to_convert] = outside_temp1[columns_to_convert].apply(lambda x: round((x - 32) * 5/9,3))"
   ]
  },
  {
   "cell_type": "code",
   "execution_count": 7,
   "metadata": {},
   "outputs": [
    {
     "name": "stdout",
     "output_type": "stream",
     "text": [
      "Date                            0\n",
      "Time                            0\n",
      "T- Outside at air inlet         0\n",
      "RH- Outside at air inlet        0\n",
      "T- Inlet for conditioner        0\n",
      "RH- Inlet for conditioner       0\n",
      "T- Inlet behind conditioner     0\n",
      "RH- Inlet behind conditioner    0\n",
      "dtype: int64\n"
     ]
    }
   ],
   "source": [
    "na_count = outside_temp1.isna().sum()\n",
    "print(na_count)"
   ]
  },
  {
   "cell_type": "code",
   "execution_count": 8,
   "metadata": {},
   "outputs": [],
   "source": [
    "outside_temp1['Round'] = 1"
   ]
  },
  {
   "cell_type": "markdown",
   "metadata": {},
   "source": [
    "# Round 2"
   ]
  },
  {
   "cell_type": "code",
   "execution_count": 9,
   "metadata": {},
   "outputs": [],
   "source": [
    "outside_temp2 = pd.read_excel('Original data/Data_round2.xlsx', sheet_name='Buiten afd')"
   ]
  },
  {
   "cell_type": "code",
   "execution_count": 11,
   "metadata": {},
   "outputs": [],
   "source": [
    "outside_temp2 = outside_temp2.iloc[:, :8]"
   ]
  },
  {
   "cell_type": "code",
   "execution_count": 12,
   "metadata": {},
   "outputs": [],
   "source": [
    "outside_temp2 = outside_temp2.rename(columns={'T-  Buiten bij luchtinlaat': 'T- Outside at air inlet','RV- Buiten bij luchtinlaat':'RH- Outside at air inlet'  , 'T- Inlaat voor conditioner':\t'T- Inlet for conditioner' , 'RV- Inlaat voor conditioner': 'RH- Inlet for conditioner' ,\t'T- Inlaat achter conditioner': 'T- Inlet behind conditioner' , 'RV- Inlaat achter conditioner':'RH- Inlet behind conditioner'})"
   ]
  },
  {
   "cell_type": "markdown",
   "metadata": {},
   "source": [
    "### Turn to celsius"
   ]
  },
  {
   "cell_type": "code",
   "execution_count": 13,
   "metadata": {},
   "outputs": [],
   "source": [
    "columns_to_convert = [col for col in outside_temp2.columns if col.startswith('T-')]\n",
    "outside_temp2[columns_to_convert] = outside_temp2[columns_to_convert].apply(lambda x: round((x - 32) * 5/9,3))"
   ]
  },
  {
   "cell_type": "code",
   "execution_count": 14,
   "metadata": {},
   "outputs": [
    {
     "name": "stdout",
     "output_type": "stream",
     "text": [
      "Date                            0\n",
      "Time                            0\n",
      "T- Outside at air inlet         0\n",
      "RH- Outside at air inlet        0\n",
      "T- Inlet for conditioner        0\n",
      "RH- Inlet for conditioner       0\n",
      "T- Inlet behind conditioner     0\n",
      "RH- Inlet behind conditioner    0\n",
      "dtype: int64\n"
     ]
    }
   ],
   "source": [
    "na_count = outside_temp2.isna().sum()\n",
    "print(na_count)"
   ]
  },
  {
   "cell_type": "code",
   "execution_count": 15,
   "metadata": {},
   "outputs": [],
   "source": [
    "outside_temp2['Round'] = 2"
   ]
  },
  {
   "cell_type": "markdown",
   "metadata": {},
   "source": [
    "# Round 3"
   ]
  },
  {
   "cell_type": "code",
   "execution_count": 16,
   "metadata": {},
   "outputs": [],
   "source": [
    "outside_temp3 = pd.read_excel('Original data/Data_round3.xlsx', sheet_name='Buiten afd')"
   ]
  },
  {
   "cell_type": "code",
   "execution_count": 17,
   "metadata": {},
   "outputs": [
    {
     "data": {
      "text/html": [
       "<div>\n",
       "<style scoped>\n",
       "    .dataframe tbody tr th:only-of-type {\n",
       "        vertical-align: middle;\n",
       "    }\n",
       "\n",
       "    .dataframe tbody tr th {\n",
       "        vertical-align: top;\n",
       "    }\n",
       "\n",
       "    .dataframe thead th {\n",
       "        text-align: right;\n",
       "    }\n",
       "</style>\n",
       "<table border=\"1\" class=\"dataframe\">\n",
       "  <thead>\n",
       "    <tr style=\"text-align: right;\">\n",
       "      <th></th>\n",
       "      <th>Date</th>\n",
       "      <th>Time</th>\n",
       "      <th>T-  Buiten bij luchtinlaat</th>\n",
       "      <th>RV- Buiten bij luchtinlaat</th>\n",
       "      <th>T- Inlaat voor conditioner</th>\n",
       "      <th>RV- Inlaat voor conditioner</th>\n",
       "      <th>T- Inlaat achter conditioner</th>\n",
       "      <th>RV- Inlaat achter conditioner</th>\n",
       "      <th>Unnamed: 8</th>\n",
       "      <th>Date.1</th>\n",
       "      <th>...</th>\n",
       "      <th>Unnamed: 45</th>\n",
       "      <th>Unnamed: 46</th>\n",
       "      <th>Unnamed: 47</th>\n",
       "      <th>Unnamed: 48</th>\n",
       "      <th>Unnamed: 49</th>\n",
       "      <th>Unnamed: 50</th>\n",
       "      <th>Unnamed: 51</th>\n",
       "      <th>Unnamed: 52</th>\n",
       "      <th>Unnamed: 53</th>\n",
       "      <th>Unnamed: 54</th>\n",
       "    </tr>\n",
       "  </thead>\n",
       "  <tbody>\n",
       "    <tr>\n",
       "      <th>0</th>\n",
       "      <td>2022-11-04</td>\n",
       "      <td>12:00:00</td>\n",
       "      <td>53.4</td>\n",
       "      <td>82.8</td>\n",
       "      <td>53.2</td>\n",
       "      <td>83.7</td>\n",
       "      <td>51.6</td>\n",
       "      <td>85.1</td>\n",
       "      <td>NaN</td>\n",
       "      <td>2022-11-04</td>\n",
       "      <td>...</td>\n",
       "      <td>NaN</td>\n",
       "      <td>NaN</td>\n",
       "      <td>NaN</td>\n",
       "      <td>NaN</td>\n",
       "      <td>NaN</td>\n",
       "      <td>NaN</td>\n",
       "      <td>NaN</td>\n",
       "      <td>NaN</td>\n",
       "      <td>NaN</td>\n",
       "      <td>18.0</td>\n",
       "    </tr>\n",
       "    <tr>\n",
       "      <th>1</th>\n",
       "      <td>2022-11-04</td>\n",
       "      <td>12:05:00</td>\n",
       "      <td>54.7</td>\n",
       "      <td>80.1</td>\n",
       "      <td>53.7</td>\n",
       "      <td>81.6</td>\n",
       "      <td>52.0</td>\n",
       "      <td>85.7</td>\n",
       "      <td>NaN</td>\n",
       "      <td>2022-11-04</td>\n",
       "      <td>...</td>\n",
       "      <td>NaN</td>\n",
       "      <td>NaN</td>\n",
       "      <td>NaN</td>\n",
       "      <td>NaN</td>\n",
       "      <td>NaN</td>\n",
       "      <td>NaN</td>\n",
       "      <td>NaN</td>\n",
       "      <td>NaN</td>\n",
       "      <td>NaN</td>\n",
       "      <td>18.0</td>\n",
       "    </tr>\n",
       "    <tr>\n",
       "      <th>2</th>\n",
       "      <td>2022-11-04</td>\n",
       "      <td>12:10:00</td>\n",
       "      <td>55.3</td>\n",
       "      <td>77.3</td>\n",
       "      <td>54.1</td>\n",
       "      <td>81.0</td>\n",
       "      <td>52.5</td>\n",
       "      <td>84.0</td>\n",
       "      <td>NaN</td>\n",
       "      <td>2022-11-04</td>\n",
       "      <td>...</td>\n",
       "      <td>NaN</td>\n",
       "      <td>NaN</td>\n",
       "      <td>NaN</td>\n",
       "      <td>NaN</td>\n",
       "      <td>NaN</td>\n",
       "      <td>NaN</td>\n",
       "      <td>NaN</td>\n",
       "      <td>NaN</td>\n",
       "      <td>NaN</td>\n",
       "      <td>18.0</td>\n",
       "    </tr>\n",
       "    <tr>\n",
       "      <th>3</th>\n",
       "      <td>2022-11-04</td>\n",
       "      <td>12:15:00</td>\n",
       "      <td>55.8</td>\n",
       "      <td>76.8</td>\n",
       "      <td>54.0</td>\n",
       "      <td>80.4</td>\n",
       "      <td>52.8</td>\n",
       "      <td>83.0</td>\n",
       "      <td>NaN</td>\n",
       "      <td>2022-11-04</td>\n",
       "      <td>...</td>\n",
       "      <td>NaN</td>\n",
       "      <td>NaN</td>\n",
       "      <td>NaN</td>\n",
       "      <td>NaN</td>\n",
       "      <td>NaN</td>\n",
       "      <td>NaN</td>\n",
       "      <td>NaN</td>\n",
       "      <td>NaN</td>\n",
       "      <td>NaN</td>\n",
       "      <td>18.0</td>\n",
       "    </tr>\n",
       "    <tr>\n",
       "      <th>4</th>\n",
       "      <td>2022-11-04</td>\n",
       "      <td>12:20:00</td>\n",
       "      <td>55.3</td>\n",
       "      <td>77.3</td>\n",
       "      <td>53.6</td>\n",
       "      <td>81.7</td>\n",
       "      <td>53.1</td>\n",
       "      <td>81.7</td>\n",
       "      <td>NaN</td>\n",
       "      <td>2022-11-04</td>\n",
       "      <td>...</td>\n",
       "      <td>NaN</td>\n",
       "      <td>NaN</td>\n",
       "      <td>NaN</td>\n",
       "      <td>NaN</td>\n",
       "      <td>NaN</td>\n",
       "      <td>NaN</td>\n",
       "      <td>NaN</td>\n",
       "      <td>NaN</td>\n",
       "      <td>NaN</td>\n",
       "      <td>18.0</td>\n",
       "    </tr>\n",
       "    <tr>\n",
       "      <th>...</th>\n",
       "      <td>...</td>\n",
       "      <td>...</td>\n",
       "      <td>...</td>\n",
       "      <td>...</td>\n",
       "      <td>...</td>\n",
       "      <td>...</td>\n",
       "      <td>...</td>\n",
       "      <td>...</td>\n",
       "      <td>...</td>\n",
       "      <td>...</td>\n",
       "      <td>...</td>\n",
       "      <td>...</td>\n",
       "      <td>...</td>\n",
       "      <td>...</td>\n",
       "      <td>...</td>\n",
       "      <td>...</td>\n",
       "      <td>...</td>\n",
       "      <td>...</td>\n",
       "      <td>...</td>\n",
       "      <td>...</td>\n",
       "      <td>...</td>\n",
       "    </tr>\n",
       "    <tr>\n",
       "      <th>10868</th>\n",
       "      <td>2022-12-12</td>\n",
       "      <td>05:40:00</td>\n",
       "      <td>24.3</td>\n",
       "      <td>100.0</td>\n",
       "      <td>26.1</td>\n",
       "      <td>94.7</td>\n",
       "      <td>41.9</td>\n",
       "      <td>50.8</td>\n",
       "      <td>NaN</td>\n",
       "      <td>2022-12-12</td>\n",
       "      <td>...</td>\n",
       "      <td>NaN</td>\n",
       "      <td>NaN</td>\n",
       "      <td>NaN</td>\n",
       "      <td>NaN</td>\n",
       "      <td>NaN</td>\n",
       "      <td>NaN</td>\n",
       "      <td>NaN</td>\n",
       "      <td>NaN</td>\n",
       "      <td>NaN</td>\n",
       "      <td>NaN</td>\n",
       "    </tr>\n",
       "    <tr>\n",
       "      <th>10869</th>\n",
       "      <td>2022-12-12</td>\n",
       "      <td>05:45:00</td>\n",
       "      <td>24.3</td>\n",
       "      <td>100.0</td>\n",
       "      <td>26.2</td>\n",
       "      <td>94.7</td>\n",
       "      <td>42.0</td>\n",
       "      <td>50.9</td>\n",
       "      <td>NaN</td>\n",
       "      <td>2022-12-12</td>\n",
       "      <td>...</td>\n",
       "      <td>NaN</td>\n",
       "      <td>NaN</td>\n",
       "      <td>NaN</td>\n",
       "      <td>NaN</td>\n",
       "      <td>NaN</td>\n",
       "      <td>NaN</td>\n",
       "      <td>NaN</td>\n",
       "      <td>NaN</td>\n",
       "      <td>NaN</td>\n",
       "      <td>NaN</td>\n",
       "    </tr>\n",
       "    <tr>\n",
       "      <th>10870</th>\n",
       "      <td>2022-12-12</td>\n",
       "      <td>05:50:00</td>\n",
       "      <td>24.3</td>\n",
       "      <td>100.0</td>\n",
       "      <td>26.2</td>\n",
       "      <td>94.3</td>\n",
       "      <td>42.0</td>\n",
       "      <td>50.8</td>\n",
       "      <td>NaN</td>\n",
       "      <td>2022-12-12</td>\n",
       "      <td>...</td>\n",
       "      <td>NaN</td>\n",
       "      <td>NaN</td>\n",
       "      <td>NaN</td>\n",
       "      <td>NaN</td>\n",
       "      <td>NaN</td>\n",
       "      <td>NaN</td>\n",
       "      <td>NaN</td>\n",
       "      <td>NaN</td>\n",
       "      <td>NaN</td>\n",
       "      <td>NaN</td>\n",
       "    </tr>\n",
       "    <tr>\n",
       "      <th>10871</th>\n",
       "      <td>2022-12-12</td>\n",
       "      <td>05:55:00</td>\n",
       "      <td>24.1</td>\n",
       "      <td>100.0</td>\n",
       "      <td>25.9</td>\n",
       "      <td>94.5</td>\n",
       "      <td>41.9</td>\n",
       "      <td>50.4</td>\n",
       "      <td>NaN</td>\n",
       "      <td>2022-12-12</td>\n",
       "      <td>...</td>\n",
       "      <td>NaN</td>\n",
       "      <td>NaN</td>\n",
       "      <td>NaN</td>\n",
       "      <td>NaN</td>\n",
       "      <td>NaN</td>\n",
       "      <td>NaN</td>\n",
       "      <td>NaN</td>\n",
       "      <td>NaN</td>\n",
       "      <td>NaN</td>\n",
       "      <td>NaN</td>\n",
       "    </tr>\n",
       "    <tr>\n",
       "      <th>10872</th>\n",
       "      <td>2022-12-12</td>\n",
       "      <td>06:00:00</td>\n",
       "      <td>24.2</td>\n",
       "      <td>100.0</td>\n",
       "      <td>26.0</td>\n",
       "      <td>94.5</td>\n",
       "      <td>42.1</td>\n",
       "      <td>50.2</td>\n",
       "      <td>NaN</td>\n",
       "      <td>2022-12-12</td>\n",
       "      <td>...</td>\n",
       "      <td>NaN</td>\n",
       "      <td>NaN</td>\n",
       "      <td>NaN</td>\n",
       "      <td>NaN</td>\n",
       "      <td>NaN</td>\n",
       "      <td>NaN</td>\n",
       "      <td>NaN</td>\n",
       "      <td>NaN</td>\n",
       "      <td>NaN</td>\n",
       "      <td>NaN</td>\n",
       "    </tr>\n",
       "  </tbody>\n",
       "</table>\n",
       "<p>10873 rows × 55 columns</p>\n",
       "</div>"
      ],
      "text/plain": [
       "            Date      Time  T-  Buiten bij luchtinlaat  \\\n",
       "0     2022-11-04  12:00:00                        53.4   \n",
       "1     2022-11-04  12:05:00                        54.7   \n",
       "2     2022-11-04  12:10:00                        55.3   \n",
       "3     2022-11-04  12:15:00                        55.8   \n",
       "4     2022-11-04  12:20:00                        55.3   \n",
       "...          ...       ...                         ...   \n",
       "10868 2022-12-12  05:40:00                        24.3   \n",
       "10869 2022-12-12  05:45:00                        24.3   \n",
       "10870 2022-12-12  05:50:00                        24.3   \n",
       "10871 2022-12-12  05:55:00                        24.1   \n",
       "10872 2022-12-12  06:00:00                        24.2   \n",
       "\n",
       "       RV- Buiten bij luchtinlaat  T- Inlaat voor conditioner  \\\n",
       "0                            82.8                        53.2   \n",
       "1                            80.1                        53.7   \n",
       "2                            77.3                        54.1   \n",
       "3                            76.8                        54.0   \n",
       "4                            77.3                        53.6   \n",
       "...                           ...                         ...   \n",
       "10868                       100.0                        26.1   \n",
       "10869                       100.0                        26.2   \n",
       "10870                       100.0                        26.2   \n",
       "10871                       100.0                        25.9   \n",
       "10872                       100.0                        26.0   \n",
       "\n",
       "       RV- Inlaat voor conditioner  T- Inlaat achter conditioner  \\\n",
       "0                             83.7                          51.6   \n",
       "1                             81.6                          52.0   \n",
       "2                             81.0                          52.5   \n",
       "3                             80.4                          52.8   \n",
       "4                             81.7                          53.1   \n",
       "...                            ...                           ...   \n",
       "10868                         94.7                          41.9   \n",
       "10869                         94.7                          42.0   \n",
       "10870                         94.3                          42.0   \n",
       "10871                         94.5                          41.9   \n",
       "10872                         94.5                          42.1   \n",
       "\n",
       "       RV- Inlaat achter conditioner  Unnamed: 8     Date.1  ...  Unnamed: 45  \\\n",
       "0                               85.1         NaN 2022-11-04  ...          NaN   \n",
       "1                               85.7         NaN 2022-11-04  ...          NaN   \n",
       "2                               84.0         NaN 2022-11-04  ...          NaN   \n",
       "3                               83.0         NaN 2022-11-04  ...          NaN   \n",
       "4                               81.7         NaN 2022-11-04  ...          NaN   \n",
       "...                              ...         ...        ...  ...          ...   \n",
       "10868                           50.8         NaN 2022-12-12  ...          NaN   \n",
       "10869                           50.9         NaN 2022-12-12  ...          NaN   \n",
       "10870                           50.8         NaN 2022-12-12  ...          NaN   \n",
       "10871                           50.4         NaN 2022-12-12  ...          NaN   \n",
       "10872                           50.2         NaN 2022-12-12  ...          NaN   \n",
       "\n",
       "      Unnamed: 46  Unnamed: 47  Unnamed: 48  Unnamed: 49  Unnamed: 50  \\\n",
       "0             NaN          NaN          NaN          NaN          NaN   \n",
       "1             NaN          NaN          NaN          NaN          NaN   \n",
       "2             NaN          NaN          NaN          NaN          NaN   \n",
       "3             NaN          NaN          NaN          NaN          NaN   \n",
       "4             NaN          NaN          NaN          NaN          NaN   \n",
       "...           ...          ...          ...          ...          ...   \n",
       "10868         NaN          NaN          NaN          NaN          NaN   \n",
       "10869         NaN          NaN          NaN          NaN          NaN   \n",
       "10870         NaN          NaN          NaN          NaN          NaN   \n",
       "10871         NaN          NaN          NaN          NaN          NaN   \n",
       "10872         NaN          NaN          NaN          NaN          NaN   \n",
       "\n",
       "       Unnamed: 51  Unnamed: 52  Unnamed: 53  Unnamed: 54  \n",
       "0              NaN          NaN          NaN         18.0  \n",
       "1              NaN          NaN          NaN         18.0  \n",
       "2              NaN          NaN          NaN         18.0  \n",
       "3              NaN          NaN          NaN         18.0  \n",
       "4              NaN          NaN          NaN         18.0  \n",
       "...            ...          ...          ...          ...  \n",
       "10868          NaN          NaN          NaN          NaN  \n",
       "10869          NaN          NaN          NaN          NaN  \n",
       "10870          NaN          NaN          NaN          NaN  \n",
       "10871          NaN          NaN          NaN          NaN  \n",
       "10872          NaN          NaN          NaN          NaN  \n",
       "\n",
       "[10873 rows x 55 columns]"
      ]
     },
     "execution_count": 17,
     "metadata": {},
     "output_type": "execute_result"
    }
   ],
   "source": [
    "outside_temp3"
   ]
  },
  {
   "cell_type": "code",
   "execution_count": 18,
   "metadata": {},
   "outputs": [],
   "source": [
    "outside_temp3 = outside_temp3.iloc[:, :8]"
   ]
  },
  {
   "cell_type": "code",
   "execution_count": 19,
   "metadata": {},
   "outputs": [],
   "source": [
    "outside_temp3 = outside_temp3.rename(columns={'T-  Buiten bij luchtinlaat': 'T- Outside at air inlet','RV- Buiten bij luchtinlaat':'RH- Outside at air inlet'  , 'T- Inlaat voor conditioner':\t'T- Inlet for conditioner' , 'RV- Inlaat voor conditioner': 'RH- Inlet for conditioner' ,\t'T- Inlaat achter conditioner': 'T- Inlet behind conditioner' , 'RV- Inlaat achter conditioner':'RH- Inlet behind conditioner'})"
   ]
  },
  {
   "cell_type": "markdown",
   "metadata": {},
   "source": [
    "### Turn to celsius"
   ]
  },
  {
   "cell_type": "code",
   "execution_count": 20,
   "metadata": {},
   "outputs": [],
   "source": [
    "columns_to_convert = [col for col in outside_temp3.columns if col.startswith('T-')]\n",
    "outside_temp3[columns_to_convert] = outside_temp3[columns_to_convert].apply(lambda x: round((x - 32) * 5/9,3))"
   ]
  },
  {
   "cell_type": "code",
   "execution_count": 21,
   "metadata": {},
   "outputs": [
    {
     "name": "stdout",
     "output_type": "stream",
     "text": [
      "Date                            0\n",
      "Time                            0\n",
      "T- Outside at air inlet         0\n",
      "RH- Outside at air inlet        0\n",
      "T- Inlet for conditioner        0\n",
      "RH- Inlet for conditioner       0\n",
      "T- Inlet behind conditioner     0\n",
      "RH- Inlet behind conditioner    0\n",
      "dtype: int64\n"
     ]
    }
   ],
   "source": [
    "na_count = outside_temp3.isna().sum()\n",
    "print(na_count)"
   ]
  },
  {
   "cell_type": "code",
   "execution_count": 22,
   "metadata": {},
   "outputs": [],
   "source": [
    "outside_temp3['Round'] = 3"
   ]
  },
  {
   "cell_type": "code",
   "execution_count": 23,
   "metadata": {},
   "outputs": [],
   "source": [
    "outside_temp = pd.concat([outside_temp1, outside_temp2, outside_temp3], ignore_index=True)"
   ]
  },
  {
   "cell_type": "code",
   "execution_count": 24,
   "metadata": {},
   "outputs": [
    {
     "name": "stdout",
     "output_type": "stream",
     "text": [
      "First date in ctrl: 2022-07-22 00:00:00\n",
      "Last date in ctrl: 2022-12-12 00:00:00\n"
     ]
    }
   ],
   "source": [
    "print(\"First date in ctrl:\", outside_temp['Date'].min())\n",
    "print(\"Last date in ctrl:\", outside_temp['Date'].max())"
   ]
  },
  {
   "cell_type": "markdown",
   "metadata": {},
   "source": [
    "# Control area"
   ]
  },
  {
   "cell_type": "code",
   "execution_count": 25,
   "metadata": {},
   "outputs": [],
   "source": [
    "ctrl1 = pd.read_excel('Original data/Data_round1.xlsx', sheet_name='Controle afd')\n",
    "ctrl2 = pd.read_excel('Original data/Data_round2.xlsx', sheet_name='Controle afd')\n",
    "ctrl3 = pd.read_excel('Original data/Data_round3.xlsx', sheet_name='Controle afd')"
   ]
  },
  {
   "cell_type": "code",
   "execution_count": 26,
   "metadata": {},
   "outputs": [],
   "source": [
    "ctrl1 = ctrl1.iloc[:, :16]\n",
    "ctrl1['Round'] = 1\n",
    "ctrl2 = ctrl2.iloc[:, :16]\n",
    "ctrl2['Round'] = 2\n",
    "ctrl3 = ctrl3.iloc[:, :16]\n",
    "ctrl3['Round'] = 3"
   ]
  },
  {
   "cell_type": "code",
   "execution_count": 27,
   "metadata": {},
   "outputs": [],
   "source": [
    "ctrl = pd.concat([ctrl1, ctrl2, ctrl3], ignore_index=True)"
   ]
  },
  {
   "cell_type": "code",
   "execution_count": 28,
   "metadata": {},
   "outputs": [
    {
     "name": "stdout",
     "output_type": "stream",
     "text": [
      "First date in ctrl: 2022-07-22 00:00:00\n",
      "Last date in ctrl: 2022-12-12 00:00:00\n"
     ]
    }
   ],
   "source": [
    "print(\"First date in ctrl:\", ctrl['Date'].min())\n",
    "print(\"Last date in ctrl:\", ctrl['Date'].max())"
   ]
  },
  {
   "cell_type": "code",
   "execution_count": 29,
   "metadata": {},
   "outputs": [],
   "source": [
    "columns_to_convert = [col for col in ctrl.columns if col.startswith('T-')]\n",
    "ctrl[columns_to_convert] = ctrl[columns_to_convert].apply(lambda x: round((x - 32) * 5/9,3))"
   ]
  },
  {
   "cell_type": "code",
   "execution_count": 30,
   "metadata": {},
   "outputs": [
    {
     "name": "stdout",
     "output_type": "stream",
     "text": [
      "Date                                           560\n",
      "Time                                           560\n",
      "T- Inlaat spleet voor deur -Cntrl.Afd          560\n",
      "RV- Inlaat spleet voor deur -Cntrl.Afd         560\n",
      "T- Inlaat spleet buiten muur -Cntrl.Afd        560\n",
      "RV- Inlaat spleet buiten muur -Cntrl.Afd       560\n",
      "T- Hokafscheiding voorste hok-Cntrl.Afd        560\n",
      "RV- Hokafscheiding voorste hok-Cntrl.Afd       560\n",
      "T- Hokafscheiding achterste hok-Cntrl.Afd      560\n",
      "RV- Hokafscheiding achterste hok-Cntrl.Afd     560\n",
      "T- Macro voorste hok-Cntrl Afd                 560\n",
      "RV- Macro voorste hok-Cntrl Afd                560\n",
      "T- Macro achterste hok-Cntrl Afd               560\n",
      "RV- Macro achterste hok-Cntrl Afd              560\n",
      "T- Afvoerkoker-Cntrl Afd                       560\n",
      "RV- Afvoerkoker-Cntrl Afd                      560\n",
      "Round                                            0\n",
      "dtype: int64\n"
     ]
    }
   ],
   "source": [
    "na_count = ctrl.isna().sum()\n",
    "print(na_count)"
   ]
  },
  {
   "cell_type": "code",
   "execution_count": 31,
   "metadata": {},
   "outputs": [],
   "source": [
    "ctrl.dropna(inplace=True)"
   ]
  },
  {
   "cell_type": "markdown",
   "metadata": {},
   "source": [
    "# Train area"
   ]
  },
  {
   "cell_type": "code",
   "execution_count": 32,
   "metadata": {},
   "outputs": [],
   "source": [
    "train1 = pd.read_excel('Original data/Data_round1.xlsx', sheet_name='Proef afd')\n",
    "train2 = pd.read_excel('Original data/Data_round2.xlsx', sheet_name='Proef afd')\n",
    "train3 = pd.read_excel('Original data/Data_round3.xlsx', sheet_name='Proef afd')"
   ]
  },
  {
   "cell_type": "code",
   "execution_count": 33,
   "metadata": {},
   "outputs": [],
   "source": [
    "train1 = train1.iloc[:, :16]\n",
    "train1['Round'] = 1\n",
    "train2 = train2.iloc[:, :16]\n",
    "train2['Round'] = 2\n",
    "train3 = train3.iloc[:, :16]\n",
    "train3['Round'] = 3"
   ]
  },
  {
   "cell_type": "code",
   "execution_count": 34,
   "metadata": {},
   "outputs": [],
   "source": [
    "train = pd.concat([train1, train2, train3], ignore_index=True)"
   ]
  },
  {
   "cell_type": "code",
   "execution_count": 35,
   "metadata": {},
   "outputs": [],
   "source": [
    "columns_to_convert = [col for col in train.columns if col.startswith('T-')]\n",
    "train[columns_to_convert] = train[columns_to_convert].apply(lambda x: round((x - 32) * 5/9,3))"
   ]
  },
  {
   "cell_type": "code",
   "execution_count": 36,
   "metadata": {},
   "outputs": [
    {
     "name": "stdout",
     "output_type": "stream",
     "text": [
      "Date                                          0\n",
      "Time                                          0\n",
      "T- Inlaat spleet voor deur -Proef.Afd         0\n",
      "RV- Inlaat spleet voor deur -Proef.Afd        0\n",
      "T- Inlaat spleet buiten muur -Proef Afd       0\n",
      "RV- Inlaat spleet buiten muur -Proef Afd      0\n",
      "T- Hokafscheiding voorste hok-Proef Afd       0\n",
      "RV- Hokafscheiding voorste hok-Proef Afd      0\n",
      "T- Hokafscheiding achterste hok-Proef Afd     0\n",
      "RV- Hokafscheiding achterste hok-Proef Afd    0\n",
      "T- Macro voorste hok-Proef Afd                0\n",
      "RV- Macro voorste hok-Proef Afd               0\n",
      "T- Macro achterste hok-Proef Afd              0\n",
      "RV- Macro achterste hok-Proef Afd             0\n",
      "T- Afvoerkoker-Proef Afd                      0\n",
      "RV- Afvoerkoker-Proef Afd                     0\n",
      "Round                                         0\n",
      "dtype: int64\n"
     ]
    }
   ],
   "source": [
    "na_count = train.isna().sum()\n",
    "print(na_count)"
   ]
  },
  {
   "cell_type": "code",
   "execution_count": 37,
   "metadata": {},
   "outputs": [],
   "source": [
    "train = train.rename(columns={\"T- Inlaat spleet voor deur -Proef.Afd \": \"T - Inlet gap for door - Test Dept.\",\n",
    "\"RV- Inlaat spleet voor deur -Proef.Afd \": \"RH - Inlet gap for door - Test Dept.\",\n",
    "\"T- Inlaat spleet buiten muur -Proef Afd \": \"T - Inlet gap outside wall - Test Dept.\",\n",
    "\"RV- Inlaat spleet buiten muur -Proef Afd \": \"RH - Inlet gap outside wall - Test Dept.\",\n",
    "\"T- Hokafscheiding voorste hok-Proef Afd\": \"T - Enclosure front compartment - Test Dept.\",\n",
    "\"RV- Hokafscheiding voorste hok-Proef Afd\": \"RH - Enclosure front compartment - Test Dept.\",\n",
    "\"T- Hokafscheiding achterste hok-Proef Afd\": \"T - Enclosure rear compartment - Test Dept.\",\n",
    "\"RV- Hokafscheiding achterste hok-Proef Afd\": \"RH - Enclosure rear compartment - Test Dept.\",\n",
    "\"T- Macro voorste hok-Proef Afd\": \"T - Macro front compartment - Test Dept.\",\n",
    "\"RV- Macro voorste hok-Proef Afd\": \"RH - Macro front compartment - Test Dept.\",\n",
    "\"T- Macro achterste hok-Proef Afd\": \"T - Macro rear compartment - Test Dept.\",\n",
    "\"RV- Macro achterste hok-Proef Afd\": \"RH - Macro rear compartment - Test Dept.\",\n",
    "\"T- Afvoerkoker-Proef Afd\": \"T - Drainage chute - Test Dept.\",\n",
    "\"RV- Afvoerkoker-Proef Afd\": \"RH - Drainage chute - Test Dept.\"})"
   ]
  },
  {
   "cell_type": "code",
   "execution_count": 38,
   "metadata": {},
   "outputs": [],
   "source": [
    "ctrl = ctrl.rename(columns={\"T- Inlaat spleet voor deur -Cntrl.Afd\": \"T - Inlet gap for door - Control Dept.\",\n",
    "\"RV- Inlaat spleet voor deur -Cntrl.Afd\": \"RH - Inlet gap for door - Control Dept.\",\n",
    "\"T- Inlaat spleet buiten muur -Cntrl.Afd\": \"T - Inlet gap outside wall - Control Dept.\",\n",
    "\"RV- Inlaat spleet buiten muur -Cntrl.Afd\": \"RH - Inlet gap outside wall - Control Dept.\",\n",
    "\"T- Hokafscheiding voorste hok-Cntrl.Afd\": \"T - Enclosure front compartment - Control Dept.\",\n",
    "\"RV- Hokafscheiding voorste hok-Cntrl.Afd\": \"RH - Enclosure front compartment - Control Dept.\",\n",
    "\"T- Hokafscheiding achterste hok-Cntrl.Afd \": \"T - Enclosure rear compartment - Control Dept.\",\n",
    "\"RV- Hokafscheiding achterste hok-Cntrl.Afd \": \"RH - Enclosure rear compartment - Control Dept.\",\n",
    "\"T- Macro voorste hok-Cntrl Afd\": \"T - Macro front compartment - Control Dept.\",\n",
    "\"RV- Macro voorste hok-Cntrl Afd\": \"RH - Macro front compartment - Control Dept.\",\n",
    "\"T- Macro achterste hok-Cntrl Afd\": \"T - Macro rear compartment - Control Dept.\",\n",
    "\"RV- Macro achterste hok-Cntrl Afd\": \"RH - Macro rear compartment - Control Dept.\",\n",
    "\"T- Afvoerkoker-Cntrl Afd\": \"T - Drainage chute - Control Dept.\",\n",
    "\"RV- Afvoerkoker-Cntrl Afd\": \"RH - Drainage chute - Control Dept.\"})"
   ]
  },
  {
   "cell_type": "code",
   "execution_count": 39,
   "metadata": {},
   "outputs": [],
   "source": [
    "train = pd.merge(train, outside_temp, on=['Date', 'Time'])\n",
    "train.drop(columns=['Round_y'], inplace=True)\n",
    "train.rename(columns={'Round_x': 'Round'}, inplace=True)\n",
    "\n",
    "ctrl = pd.merge(ctrl, outside_temp, on=['Date', 'Time'])\n",
    "ctrl.drop(columns=['Round_y'], inplace=True)\n",
    "ctrl.rename(columns={'Round_x': 'Round'}, inplace=True)"
   ]
  },
  {
   "cell_type": "markdown",
   "metadata": {},
   "source": [
    "# Iporting and merging ventilation data"
   ]
  },
  {
   "cell_type": "markdown",
   "metadata": {},
   "source": [
    "## Training room"
   ]
  },
  {
   "cell_type": "code",
   "execution_count": 40,
   "metadata": {},
   "outputs": [],
   "source": [
    "vent_train1 = pd.read_excel('Original data/Ventilation data/Train/Trainround1.xlsx', sheet_name='Room ventilation. Ronde 1')\n",
    "vent_train2 = pd.read_excel('Original data/Ventilation data/Train/Trainround2.xlsx', sheet_name='Room ventilation. Ronde 2')\n",
    "vent_train3 = pd.read_excel('Original data/Ventilation data/Train/Trainround3.xlsx', sheet_name='Room ventilation. Ronde 3')"
   ]
  },
  {
   "cell_type": "code",
   "execution_count": 41,
   "metadata": {},
   "outputs": [],
   "source": [
    "vent_train1['Date'] = pd.to_datetime(vent_train1['Date/Time']).dt.date\n",
    "vent_train2['Date'] = pd.to_datetime(vent_train2['Date/Time']).dt.date\n",
    "vent_train3['Date'] = pd.to_datetime(vent_train3['Date/Time']).dt.date"
   ]
  },
  {
   "cell_type": "code",
   "execution_count": 42,
   "metadata": {},
   "outputs": [],
   "source": [
    "vent_train1 = vent_train1.iloc[:, 1:11]\n",
    "vent_train1['Round'] = 1\n",
    "vent_train2 = vent_train2.iloc[:, 1:11]\n",
    "vent_train2['Round'] = 2\n",
    "vent_train3 = vent_train3.iloc[:, 1:11]\n",
    "vent_train3['Round'] = 3"
   ]
  },
  {
   "cell_type": "code",
   "execution_count": 43,
   "metadata": {},
   "outputs": [],
   "source": [
    "vent_train = pd.concat([vent_train1, vent_train2, vent_train3], ignore_index=True)"
   ]
  },
  {
   "cell_type": "code",
   "execution_count": 44,
   "metadata": {},
   "outputs": [
    {
     "name": "stderr",
     "output_type": "stream",
     "text": [
      "C:\\Users\\aleza\\AppData\\Local\\Temp\\ipykernel_6508\\3527084945.py:7: UserWarning: Could not infer format, so each element will be parsed individually, falling back to `dateutil`. To ensure parsing is consistent and as-expected, please specify a format.\n",
      "  vent_train['Time'] = pd.to_datetime(vent_train['Time'].astype(str))\n"
     ]
    }
   ],
   "source": [
    "import pandas as pd\n",
    "from datetime import datetime, timedelta\n",
    "\n",
    "vent_train['Time'] = pd.to_datetime(vent_train['Time'].astype(str))\n",
    "\n",
    "duplicated_vent_train = vent_train.copy()\n",
    "\n",
    "# Adjust the time by adding 5 minutes to each duplicated row\n",
    "duplicated_vent_train['Time'] = duplicated_vent_train['Time'] + timedelta(minutes=5)\n",
    "\n",
    "concatenated_vent_train = pd.concat([vent_train, duplicated_vent_train])\n",
    "\n",
    "concatenated_vent_train['Time'] = concatenated_vent_train['Time'].dt.time\n",
    "concatenated_vent_train = concatenated_vent_train.sort_values(by=['Date', 'Time'])"
   ]
  },
  {
   "cell_type": "code",
   "execution_count": 45,
   "metadata": {},
   "outputs": [],
   "source": [
    "concatenated_vent_train.reset_index(drop=True, inplace=True)\n",
    "concatenated_vent_train['Date'] = pd.to_datetime(concatenated_vent_train['Date'])\n",
    "train['Date'] = pd.to_datetime(train['Date'])\n",
    "\n",
    "train = pd.merge(train, concatenated_vent_train, on=['Date', 'Time'])"
   ]
  },
  {
   "cell_type": "markdown",
   "metadata": {},
   "source": [
    "## Control room"
   ]
  },
  {
   "cell_type": "code",
   "execution_count": 46,
   "metadata": {},
   "outputs": [],
   "source": [
    "vent_ctrl1 = pd.read_excel('Original data/Ventilation data/control/Controlround1.xlsx', sheet_name='Room ventilation. Ronde 1')\n",
    "vent_ctrl2 = pd.read_excel('Original data/Ventilation data/control/Controlround2.xlsx', sheet_name='Room ventilation. Ronde 2')\n",
    "vent_ctrl3 = pd.read_excel('Original data/Ventilation data/control/Controlround3.xlsx', sheet_name='Room ventilation. Ronde 3')"
   ]
  },
  {
   "cell_type": "code",
   "execution_count": 47,
   "metadata": {},
   "outputs": [],
   "source": [
    "vent_ctrl1['Date'] = pd.to_datetime(vent_ctrl1['Date/Time']).dt.date\n",
    "vent_ctrl2['Date'] = pd.to_datetime(vent_ctrl2['Date/Time']).dt.date\n",
    "vent_ctrl3['Date'] = pd.to_datetime(vent_ctrl3['Date/Time']).dt.date"
   ]
  },
  {
   "cell_type": "code",
   "execution_count": 48,
   "metadata": {},
   "outputs": [],
   "source": [
    "vent_ctrl1 = vent_ctrl1.iloc[:, 1:11]\n",
    "vent_ctrl1['Round'] = 1\n",
    "vent_ctrl2 = vent_ctrl2.iloc[:, 1:11]\n",
    "vent_ctrl2['Round'] = 2\n",
    "vent_ctrl3 = vent_ctrl3.iloc[:, 1:11]\n",
    "vent_ctrl3['Round'] = 3"
   ]
  },
  {
   "cell_type": "code",
   "execution_count": 49,
   "metadata": {},
   "outputs": [],
   "source": [
    "vent_ctrl = pd.concat([vent_ctrl1, vent_ctrl2, vent_ctrl3], ignore_index=True)"
   ]
  },
  {
   "cell_type": "code",
   "execution_count": 50,
   "metadata": {},
   "outputs": [
    {
     "name": "stderr",
     "output_type": "stream",
     "text": [
      "C:\\Users\\aleza\\AppData\\Local\\Temp\\ipykernel_6508\\229153007.py:1: UserWarning: Could not infer format, so each element will be parsed individually, falling back to `dateutil`. To ensure parsing is consistent and as-expected, please specify a format.\n",
      "  vent_ctrl['Time'] = pd.to_datetime(vent_ctrl['Time'].astype(str))\n"
     ]
    }
   ],
   "source": [
    "vent_ctrl['Time'] = pd.to_datetime(vent_ctrl['Time'].astype(str))\n",
    "\n",
    "duplicated_vent_ctrl = vent_ctrl.copy()\n",
    "\n",
    "duplicated_vent_ctrl['Time'] = duplicated_vent_ctrl['Time'] + timedelta(minutes=5)\n",
    "\n",
    "concatenated_vent_ctrl = pd.concat([vent_ctrl, duplicated_vent_ctrl])\n",
    "\n",
    "concatenated_vent_ctrl['Time'] = concatenated_vent_ctrl['Time'].dt.time\n",
    "concatenated_vent_ctrl = concatenated_vent_ctrl.sort_values(by=['Date', 'Time'])"
   ]
  },
  {
   "cell_type": "code",
   "execution_count": 51,
   "metadata": {},
   "outputs": [],
   "source": [
    "concatenated_vent_ctrl.reset_index(drop=True, inplace=True)\n",
    "concatenated_vent_ctrl['Date'] = pd.to_datetime(concatenated_vent_ctrl['Date'])\n",
    "train['Date'] = pd.to_datetime(train['Date'])\n",
    "ctrl = pd.merge(ctrl, concatenated_vent_ctrl, on=['Date', 'Time'])"
   ]
  },
  {
   "cell_type": "code",
   "execution_count": 52,
   "metadata": {},
   "outputs": [],
   "source": [
    "train.drop(columns=['Round_y'], inplace=True)\n",
    "train.rename(columns={'Round_x': 'Round'}, inplace=True)\n",
    "\n",
    "ctrl.drop(columns=['Round_y'], inplace=True)\n",
    "ctrl.rename(columns={'Round_x': 'Round'}, inplace=True)"
   ]
  },
  {
   "cell_type": "markdown",
   "metadata": {},
   "source": [
    "# Save the new dataframes :D"
   ]
  },
  {
   "cell_type": "code",
   "execution_count": 54,
   "metadata": {},
   "outputs": [],
   "source": [
    "train.to_csv('Useful data/train_final.csv', index=False)\n",
    "ctrl.to_csv('Useful data/ctrl_final.csv', index=False)"
   ]
  }
 ],
 "metadata": {
  "kernelspec": {
   "display_name": "Python 3",
   "language": "python",
   "name": "python3"
  },
  "language_info": {
   "codemirror_mode": {
    "name": "ipython",
    "version": 3
   },
   "file_extension": ".py",
   "mimetype": "text/x-python",
   "name": "python",
   "nbconvert_exporter": "python",
   "pygments_lexer": "ipython3",
   "version": "3.10.6"
  }
 },
 "nbformat": 4,
 "nbformat_minor": 2
}
